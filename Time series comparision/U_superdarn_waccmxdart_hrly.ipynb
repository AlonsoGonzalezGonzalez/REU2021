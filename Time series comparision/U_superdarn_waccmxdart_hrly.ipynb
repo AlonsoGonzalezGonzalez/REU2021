{
 "cells": [
  {
   "cell_type": "code",
   "execution_count": 1,
   "id": "266b06db-e7c2-4aa6-a99c-ccb626be7383",
   "metadata": {},
   "outputs": [],
   "source": [
    "import glob\n",
    "import netCDF4\n",
    "import xarray \n",
    "import numpy as np\n",
    "import datetime as dt\n",
    "import pandas as pd\n",
    "from pandas import DataFrame\n",
    "\n",
    "import os\n",
    "import csv\n",
    "import numpy as np                  # For doing math\n",
    "import matplotlib.pyplot as plt     # For plotting\n",
    "import matplotlib.dates as mdates   # For formatting dates when plotting\n",
    "import matplotlib.colors as colors  # For truncating colorbars\n",
    "import matplotlib.style as style\n",
    "import xarray as xr                 # For dealing with netCDF data\n",
    "import pandas as pd                 # A quick way to deal with time stamps"
   ]
  },
  {
   "cell_type": "markdown",
   "id": "45234781-4dba-4bcc-a320-cd7d3a4d83c2",
   "metadata": {},
   "source": [
    "## Open files"
   ]
  },
  {
   "cell_type": "code",
   "execution_count": 2,
   "id": "2cf7a2fd-bfa2-4742-b250-6d766f48621f",
   "metadata": {},
   "outputs": [],
   "source": [
    "df_sd=pd.read_csv('U_superdarn_hrly_winds.csv')\n",
    "df_wacc=pd.read_csv('U_waccmxdart_hrly_winds.csv')"
   ]
  },
  {
   "cell_type": "markdown",
   "id": "a9f97fd7-0677-4b53-a6bc-649b401ddf5e",
   "metadata": {},
   "source": [
    "## Read-in SuperDarn data"
   ]
  },
  {
   "cell_type": "code",
   "execution_count": 3,
   "id": "922231fe-3bc6-4ad9-8012-0bd3968ed061",
   "metadata": {},
   "outputs": [
    {
     "name": "stdout",
     "output_type": "stream",
     "text": [
      "Ending dataframe:\n",
      "                    Date   Kod   Pgr   Sas   Rkn   Pyk   Han\n",
      "0    2009-01-10 00:00:00 -10.0   NaN   6.0  70.0  27.0  32.0\n",
      "1    2009-01-10 01:00:00 -10.0   NaN -20.0  79.0  15.0  52.0\n",
      "2    2009-01-10 02:00:00   1.0   NaN -54.0 -24.0   3.0  24.0\n",
      "3    2009-01-10 03:00:00 -22.0   NaN -26.0   NaN  21.0 -15.0\n",
      "4    2009-01-10 04:00:00 -19.0   NaN  -2.0   NaN  27.0   6.0\n",
      "...                  ...   ...   ...   ...   ...   ...   ...\n",
      "1651 2009-03-19 19:00:00  10.0  26.0  20.0   NaN  19.0  16.0\n",
      "1652 2009-03-19 20:00:00   3.0  11.0   1.0  46.0 -21.0   4.0\n",
      "1653 2009-03-19 21:00:00   8.0 -13.0  -0.0   4.0  -3.0  -0.0\n",
      "1654 2009-03-19 22:00:00   NaN  12.0  23.0   NaN   5.0 -15.0\n",
      "1655 2009-03-19 23:00:00   NaN   4.0   7.0  36.0  -1.0 -36.0\n",
      "\n",
      "[1656 rows x 7 columns]\n"
     ]
    }
   ],
   "source": [
    "df_sd = df_sd.replace(-999.0, np.nan)\n",
    "\n",
    "# get rid of ugly column name (so we can use datetime)\n",
    "df_sd.rename(columns = {'# year':'year'}, inplace = True) \n",
    "\n",
    "# Create datetime array and insert it into the dataframe\n",
    "date = pd.to_datetime(df_sd[['year', 'month', 'day', 'hour']])\n",
    "date = pd.to_datetime(date)\n",
    "df_sd.insert(0, 'Date', date)\n",
    "\n",
    "#Get rid of the columns we don't need anymore\n",
    "df_sd = df_sd.drop(columns=['year', 'month', 'day', 'hour'])\n",
    "\n",
    "print(\"Ending dataframe:\")\n",
    "print(df_sd)"
   ]
  },
  {
   "cell_type": "markdown",
   "id": "6879cd23-9eb4-490d-a561-7e163aa9dac3",
   "metadata": {},
   "source": [
    "## Manipulating WACCMXDART file"
   ]
  },
  {
   "cell_type": "code",
   "execution_count": 4,
   "id": "e091f19c-539f-496c-9ac7-7c1af9bef379",
   "metadata": {},
   "outputs": [
    {
     "name": "stdout",
     "output_type": "stream",
     "text": [
      "Ending dataframe:\n",
      "                    Date    Kod    Pgr    Sas    Rkn    Pyk    Han\n",
      "0    2009-01-10 00:00:00  11.96  49.63  17.93 -40.34  28.02  -5.95\n",
      "1    2009-01-10 01:00:00  23.09  36.78   0.53 -41.67  12.09 -10.19\n",
      "2    2009-01-10 02:00:00  32.33  10.57  -6.58 -25.73   5.85 -19.60\n",
      "3    2009-01-10 03:00:00  12.08  -0.12  -4.95 -21.52  18.90 -25.86\n",
      "4    2009-01-10 04:00:00  -4.58  14.30   2.23 -26.33  27.68 -22.30\n",
      "...                  ...    ...    ...    ...    ...    ...    ...\n",
      "1651 2009-03-19 19:00:00 -29.69  28.22  25.15 -10.50   2.29  -4.38\n",
      "1652 2009-03-19 20:00:00 -46.92  22.37  24.92   6.30  -0.20   3.96\n",
      "1653 2009-03-19 21:00:00 -52.47  25.45  32.45  -0.92 -10.16  11.78\n",
      "1654 2009-03-19 22:00:00 -66.03  37.12  38.95   0.36 -15.54   2.33\n",
      "1655 2009-03-19 23:00:00 -58.50  33.88  40.98  15.76 -19.47 -17.80\n",
      "\n",
      "[1656 rows x 7 columns]\n"
     ]
    }
   ],
   "source": [
    "df_wacc = df_wacc.replace(-999.0, np.nan)\n",
    "\n",
    "# get rid of ugly column name (so we can use datetime)\n",
    "df_wacc.rename(columns = {'# year':'year'}, inplace = True) \n",
    "\n",
    "# Create datetime array and insert it into the dataframe\n",
    "date = pd.to_datetime(df_wacc[['year', 'month', 'day', 'hour']])\n",
    "date = pd.to_datetime(date)\n",
    "df_wacc.insert(0, 'Date', date)\n",
    "\n",
    "#Get rid of the columns we don't need anymore\n",
    "df_wacc = df_wacc.drop(columns=['year', 'month', 'day', 'hour'])\n",
    "\n",
    "print(\"Ending dataframe:\")\n",
    "print(df_wacc)"
   ]
  },
  {
   "cell_type": "markdown",
   "id": "9d4edd34-e73d-4fd1-b32e-37c2e12396a0",
   "metadata": {},
   "source": [
    "## Set Date as index for both datasets"
   ]
  },
  {
   "cell_type": "code",
   "execution_count": 5,
   "id": "c38826ba-3253-4fcc-9907-e0a23ab1f4bf",
   "metadata": {},
   "outputs": [],
   "source": [
    "df_sd=df_sd.set_index('Date')"
   ]
  },
  {
   "cell_type": "code",
   "execution_count": 6,
   "id": "f2172800-81d2-434d-95fe-51e2bdfaeffa",
   "metadata": {},
   "outputs": [],
   "source": [
    "df_wacc=df_wacc.set_index('Date')"
   ]
  },
  {
   "cell_type": "markdown",
   "id": "3b597101-ae41-4469-a8c7-798d13da1653",
   "metadata": {},
   "source": [
    "## Making graphs for the 6 different stations"
   ]
  },
  {
   "cell_type": "code",
   "execution_count": null,
   "id": "8387ebf3-b4f1-4d72-b81a-16f08285d043",
   "metadata": {
    "tags": []
   },
   "outputs": [],
   "source": [
    "#Kod radar station \n",
    "fig1=plt.figure(figsize=(20,8))\n",
    "plt.plot(df_sd.index,df_sd['Kod'], label='Kod observation')\n",
    "plt.plot(df_wacc.index,df_wacc['Kod'], label= 'Kod model')\n",
    "plt.tick_params(axis='x', labelsize=20)\n",
    "plt.tick_params(axis='y', labelsize=20)\n",
    "plt.xlabel('Time',fontsize=18,fontweight='bold')\n",
    "plt.ylabel('Hourly U [m s$^{-1}$]', fontsize=18,fontweight='bold')\n",
    "plt.axhline(0, c='r', linestyle='--') #plot the 0 line\n",
    "plt.legend(fontsize=15)\n",
    "plot_label_name = 'Kod'\n",
    "plt.savefig(plot_label_name+\".png\")\n",
    "\n",
    "\n",
    "#Sas radar station\n",
    "fig2=plt.figure(figsize=(20,8))\n",
    "plt.plot(df_sd.index,df_sd['Sas'], label='Sas observation', color = 'red')\n",
    "plt.plot(df_wacc.index,df_wacc['Sas'], label= 'Sas model', color = 'darkgreen')\n",
    "plt.tick_params(axis='x', labelsize=16)\n",
    "plt.tick_params(axis='y', labelsize=16)\n",
    "plt.xlabel('Time',fontsize=15,fontweight='bold')\n",
    "plt.ylabel('Hourly U [m s$^{-1}$]', fontsize=15,fontweight='bold')\n",
    "plt.axhline(0, c='r', linestyle='--') #plot the 0 line\n",
    "plt.legend(fontsize=15)\n",
    "# plot_label_name = 'Sas'\n",
    "# plt.savefig(plot_label_name+\".png\")\n",
    "\n",
    "#Pgr radar station\n",
    "fig3=plt.figure(figsize=(20,8))\n",
    "plt.plot(df_sd.index,df_sd['Pgr'], label='Pgr observation', color = 'purple')\n",
    "plt.plot(df_wacc.index,df_wacc['Pgr'], label= 'Pgr model', color = 'yellow')\n",
    "plt.tick_params(axis='x', labelsize=16)\n",
    "plt.tick_params(axis='y', labelsize=16)\n",
    "plt.xlabel('Time',fontsize=15,fontweight='bold')\n",
    "plt.ylabel('Hourly U [m s$^{-1}$]', fontsize=15,fontweight='bold')\n",
    "plt.axhline(0, c='r', linestyle='--') #plot the 0 line\n",
    "plt.legend(fontsize=15)\n",
    "# plot_label_name = 'Pgr'\n",
    "# plt.savefig(plot_label_name+\".png\")\n",
    "\n",
    "#Rkn radar station\n",
    "fig4=plt.figure(figsize=(20,8))\n",
    "plt.plot(df_sd.index,df_sd['Rkn'], label='Rkn observation', color = 'darkorange')\n",
    "plt.plot(df_wacc.index,df_wacc['Rkn'], label= 'Rkn model', color = 'darkblue')\n",
    "plt.tick_params(axis='x', labelsize=16)\n",
    "plt.tick_params(axis='y', labelsize=16)\n",
    "plt.xlabel('Time',fontsize=15,fontweight='bold')\n",
    "plt.ylabel('Hourly U [m s$^{-1}$]', fontsize=15,fontweight='bold')\n",
    "plt.axhline(0, c='r', linestyle='--') #plot the 0 line\n",
    "plt.legend(fontsize=15)\n",
    "# plot_label_name = 'Rkn'\n",
    "# plt.savefig(plot_label_name+\".png\")\n",
    "\n",
    "#Pyk radar station\n",
    "fig5=plt.figure(figsize=(20,8))\n",
    "plt.plot(df_sd.index,df_sd['Pyk'], label='Pyk observation', color = 'lime')\n",
    "plt.plot(df_wacc.index,df_wacc['Pyk'], label= 'Pyk model', color = 'crimson')\n",
    "plt.tick_params(axis='x', labelsize=16)\n",
    "plt.tick_params(axis='y', labelsize=16)\n",
    "plt.xlabel('Time',fontsize=15,fontweight='bold')\n",
    "plt.ylabel('Hourly U [m s$^{-1}$]', fontsize=15,fontweight='bold')\n",
    "# plt.axvline(dt.datetime(2009,2,25))\n",
    "# plt.axvline(dt.datetime(2009,3,12))\n",
    "# plt.axhline(y=0)\n",
    "plt.axhline(0, c='r', linestyle='--') #plot the 0 line\n",
    "plt.legend(fontsize=15)\n",
    "# plot_label_name = 'Pyk'\n",
    "# plt.savefig(plot_label_name+\".png\")\n",
    "\n",
    "#Han radar station\n",
    "fig5=plt.figure(figsize=(20,8))\n",
    "plt.plot(df_sd.index,df_sd['Han'], label='Han observation', color = 'pink')\n",
    "plt.plot(df_wacc.index,df_wacc['Han'], label= 'Han model', color = 'blue')\n",
    "plt.tick_params(axis='x', labelsize=20)\n",
    "plt.tick_params(axis='y', labelsize=20)\n",
    "plt.xlabel('Time',fontsize=18,fontweight='bold')\n",
    "plt.ylabel('Hourly U [m s$^{-1}$]', fontsize=18,fontweight='bold')\n",
    "plt.axhline(0, c='r', linestyle='--') #plot the 0 line\n",
    "plt.legend(fontsize=15)\n",
    "plot_label_name = 'Han'\n",
    "plt.savefig(plot_label_name+\".png\")"
   ]
  },
  {
   "cell_type": "code",
   "execution_count": null,
   "id": "6d56176a-975f-4191-9d8f-0bef78a897c6",
   "metadata": {},
   "outputs": [],
   "source": [
    "#data from 2009-02-15 to 2009-02-24 in the superdarn observations\n",
    "x=df_sd.iloc[(df_sd.index>='2009-02-15 00:00:00') & (df_sd.index <= '2009-02-24 00:00:00')]"
   ]
  },
  {
   "cell_type": "code",
   "execution_count": null,
   "id": "c1dbf711-d499-4c1d-b93b-e808dd45c2aa",
   "metadata": {},
   "outputs": [],
   "source": [
    "#data from 2009-02-15 to 2009-02-24 in the WACCMXDART model\n",
    "x1=df_wacc.iloc[(df_wacc.index>='2009-02-15 00:00:00') & (df_wacc.index <= '2009-02-24 00:00:00')]"
   ]
  },
  {
   "cell_type": "code",
   "execution_count": null,
   "id": "967a8289-abe6-445c-a4ee-c49770c50ac7",
   "metadata": {},
   "outputs": [],
   "source": [
    "difference=df_sd['Han']-df_wacc['Han']"
   ]
  },
  {
   "cell_type": "code",
   "execution_count": null,
   "id": "25741b5d-f8fa-4932-aca7-973b21bb7063",
   "metadata": {},
   "outputs": [],
   "source": [
    "df_sd['Han'].max()"
   ]
  },
  {
   "cell_type": "code",
   "execution_count": null,
   "id": "44f13219-da0b-4ac1-ac6d-12069b1c29ca",
   "metadata": {},
   "outputs": [],
   "source": [
    "difference.max()"
   ]
  },
  {
   "cell_type": "code",
   "execution_count": null,
   "id": "b2cabaa1-0300-417b-9135-129309f6dcb9",
   "metadata": {},
   "outputs": [],
   "source": [
    "df_wacc['Han'].min()"
   ]
  },
  {
   "cell_type": "code",
   "execution_count": null,
   "id": "599121bc-b5ab-42fe-b187-cc9b633b7957",
   "metadata": {},
   "outputs": [],
   "source": [
    "difference"
   ]
  },
  {
   "cell_type": "code",
   "execution_count": null,
   "id": "826d6794-05c2-4c05-84e5-492f419ecf2e",
   "metadata": {},
   "outputs": [],
   "source": [
    "df_sd['Han']"
   ]
  },
  {
   "cell_type": "code",
   "execution_count": null,
   "id": "effa38f2-a29e-4cbd-8781-f4c35dbc6517",
   "metadata": {},
   "outputs": [],
   "source": [
    "df_wacc['Han']"
   ]
  },
  {
   "cell_type": "code",
   "execution_count": null,
   "id": "54dcf4f5-d5ca-4a8d-8e5a-874c2a48b66b",
   "metadata": {},
   "outputs": [],
   "source": [
    "plt.figure(figsize=(20,8))\n",
    "plt.plot(difference.index,difference, label='diferrence', color = 'pink')\n",
    "plt.tick_params(axis='x', labelsize=16)\n",
    "plt.tick_params(axis='y', labelsize=16)\n",
    "plt.xlabel('Time',fontsize=15,fontweight='bold')\n",
    "plt.ylabel('difference', fontsize=15,fontweight='bold')\n",
    "plt.legend(fontsize=15)\n",
    "plt.axhline(141.6, c='r', linestyle='--') #plot the 0 line"
   ]
  },
  {
   "cell_type": "code",
   "execution_count": null,
   "id": "8ce65fb0-18b2-4ade-aa5f-3cbb240841c6",
   "metadata": {},
   "outputs": [],
   "source": []
  },
  {
   "cell_type": "code",
   "execution_count": null,
   "id": "366abc0e-bf9a-4786-b8dc-e09f0ca01b25",
   "metadata": {},
   "outputs": [],
   "source": [
    "x2=df_sd.iloc[(df_sd.index>='2009-02-25 00:00:00') & (df_sd.index <= '2009-03-12 00:00:00')]\n",
    "x3=df_wacc.iloc[(df_wacc.index>='2009-02-25 00:00:00') & (df_wacc.index <= '2009-03-12 00:00:00')]"
   ]
  },
  {
   "cell_type": "code",
   "execution_count": null,
   "id": "453e7d14-bcce-431d-92ac-0ff9906fde75",
   "metadata": {},
   "outputs": [],
   "source": [
    "#Graph for the data recorded by the Han station from 02-15 to 02-24\n",
    "plt.figure(figsize=(20,8))\n",
    "plt.plot(x.index,x['Han'], label='Han observation', color = 'pink')\n",
    "plt.plot(x1.index,x1['Han'], label= 'Han model', color = 'blue')\n",
    "plt.tick_params(axis='x', labelsize=16)\n",
    "plt.tick_params(axis='y', labelsize=16)\n",
    "plt.xlabel('Time',fontsize=15,fontweight='bold')\n",
    "plt.ylabel('Hourly U [m s$^{-1}$]', fontsize=15,fontweight='bold')\n",
    "plt.legend(fontsize=15)\n",
    "plt.grid()\n",
    "plt.axhline(0, c='r', linestyle='--') #plot the 0 line\n",
    "plot_label_name = 'Han_Feb-march'\n",
    "plt.savefig(plot_label_name+\".png\")\n",
    "\n",
    "#Graph for the data recorded by the Pyk station from 01-15 to 02-04\n",
    "plt.figure(figsize=(20,8))\n",
    "plt.plot(x2.index,x2['Pyk'], label='Ryk observation', color = 'red')\n",
    "plt.plot(x3.index,x3['Pyk'], label= 'Ryk model', color = 'green')\n",
    "plt.tick_params(axis='x', labelsize=16)\n",
    "plt.tick_params(axis='y', labelsize=16)\n",
    "plt.xlabel('Time',fontsize=15,fontweight='bold')\n",
    "plt.ylabel('Hourly U [m s$^{-1}$]', fontsize=15,fontweight='bold')\n",
    "plt.legend(fontsize=15)\n",
    "plt.axvline(dt.datetime(2009,2,28), label='02/28')\n",
    "plt.axvline(dt.datetime(2009,3,6))\n",
    "plt.grid()\n",
    "# plt.axhline(0, c='r', linestyle='--') #plot the 0 line\n",
    "# plot_label_name = 'Han'\n",
    "# plt.savefig(plot_label_name+\".png\")"
   ]
  },
  {
   "cell_type": "markdown",
   "id": "28808ab3-8649-44ea-95ac-2fefae783f49",
   "metadata": {},
   "source": [
    "## Scatter plotting \n"
   ]
  },
  {
   "cell_type": "code",
   "execution_count": null,
   "id": "26f0bc2f-7571-4aea-a538-7f71e62b4e8b",
   "metadata": {},
   "outputs": [],
   "source": [
    "#Han station 02-15 to 02-24\n",
    "plt.scatter(x['Han'],x1['Han'])\n",
    "plt.xlabel('Superdarn',fontsize=12,fontweight='bold')\n",
    "plt.ylabel('WACCMXDART',fontsize=12,fontweight='bold')\n",
    "plt.ylim(-100,100)\n",
    "plt.xlim(-100,100)\n",
    "plt.show()\n",
    "\n",
    "#Pyk station 01-10 to 02-04\n",
    "plt.scatter(x2['Pyk'],x3['Pyk'])\n",
    "plt.xlabel('Superdarn',fontsize=12,fontweight='bold')\n",
    "plt.ylabel('WACCMXDART',fontsize=12,fontweight='bold')\n",
    "plt.ylim(-100,100)\n",
    "plt.xlim(-100,100)\n",
    "plt.show()"
   ]
  },
  {
   "cell_type": "code",
   "execution_count": null,
   "id": "3a4428a4-6122-4b73-8f77-1856cdf2a987",
   "metadata": {},
   "outputs": [],
   "source": [
    "plt.figure(figsize=(25,12))\n",
    "(df_sd.Han[df_sd.index.month==2]).plot()\n",
    "(df_wacc.Han[df_wacc.index.month==2]).plot()"
   ]
  },
  {
   "cell_type": "code",
   "execution_count": null,
   "id": "6ec12d2c-a2fd-433b-8db3-594b88a79d4a",
   "metadata": {},
   "outputs": [],
   "source": [
    "difference2=df_sd['Kod']-df_wacc['Kod']"
   ]
  },
  {
   "cell_type": "code",
   "execution_count": null,
   "id": "43aae069-16ee-4d95-8249-6b1d0c723a53",
   "metadata": {},
   "outputs": [],
   "source": [
    "difference2.max()"
   ]
  },
  {
   "cell_type": "markdown",
   "id": "06866710-52f4-4dd1-9b3c-f398c40b1b20",
   "metadata": {},
   "source": [
    "**Scatter Plot for Statistical Analysis**"
   ]
  },
  {
   "cell_type": "code",
   "execution_count": 7,
   "id": "10308677-f4d8-46bb-b59d-5d0621dbb0ca",
   "metadata": {},
   "outputs": [
    {
     "data": {
      "image/png": "[encoded data removed]",
      "text/plain": [
       "<Figure size 432x288 with 1 Axes>"
      ]
     },
     "metadata": {
      "needs_background": "light"
     },
     "output_type": "display_data"
    }
   ],
   "source": [
    "#Scatter plot at Hankasalmi\n",
    "plt.scatter(df_sd['Han'],df_wacc['Han'], color ='g')\n",
    "plt.xlabel('Superdarn',fontsize=12,fontweight='bold')\n",
    "plt.ylabel('WACCMXDART',fontsize=12,fontweight='bold')\n",
    "plt.ylim(-100,110)\n",
    "plt.xlim(-100,110)\n",
    "plt.title(\"Zonal Winds at Hankasalmi, Finland\", fontsize=12,fontweight='bold')\n",
    "plt.show()"
   ]
  },
  {
   "cell_type": "code",
   "execution_count": null,
   "id": "289142ab-ff74-4c41-999e-0ee74abfd8d0",
   "metadata": {},
   "outputs": [],
   "source": [
    "plt.scatter(df_sd['Kod'],df_wacc['Kod'], color ='g')\n",
    "plt.xlabel('Superdarn',fontsize=12,fontweight='bold')\n",
    "plt.ylabel('WACCMXDART',fontsize=12,fontweight='bold')\n",
    "plt.ylim(-100,110)\n",
    "plt.xlim(-100,110)\n",
    "plt.title(\"Zonal Winds at Kodiak, Alaska\", fontsize=12,fontweight='bold')\n",
    "plt.show()"
   ]
  },
  {
   "cell_type": "code",
   "execution_count": null,
   "id": "90ecc46e-b584-42c9-8f7f-4c6c4f675741",
   "metadata": {},
   "outputs": [],
   "source": []
  }
 ],
 "metadata": {
  "kernelspec": {
   "display_name": "Python 3",
   "language": "python",
   "name": "python3"
  },
  "language_info": {
   "codemirror_mode": {
    "name": "ipython",
    "version": 3
   },
   "file_extension": ".py",
   "mimetype": "text/x-python",
   "name": "python",
   "nbconvert_exporter": "python",
   "pygments_lexer": "ipython3",
   "version": "3.8.8"
  }
 },
 "nbformat": 4,
 "nbformat_minor": 5
}
